{
 "cells": [
  {
   "cell_type": "code",
   "execution_count": 1,
   "metadata": {},
   "outputs": [],
   "source": [
    "#!pip install numpy\n",
    "#!pip install mataplotlib.pyplot\n",
    "#working with numpy to manipulate data as arrays \n",
    "import numpy as np\n",
    "#Visualizing Data with a Histogram\n",
    "import matplotlib.pyplot as plt\n",
    "\n",
    "#Importing the CSV File\n",
    "data = np.genfromtxt('biostats.csv', delimiter=',', dtype=None, encoding=None, skip_header=1)"
   ]
  },
  {
   "cell_type": "code",
   "execution_count": 2,
   "metadata": {},
   "outputs": [
    {
     "name": "stdout",
     "output_type": "stream",
     "text": [
      "(18,)\n"
     ]
    }
   ],
   "source": [
    "#determining the shape of the dataset\n",
    "print(data.shape)"
   ]
  },
  {
   "cell_type": "code",
   "execution_count": 3,
   "metadata": {},
   "outputs": [
    {
     "name": "stdout",
     "output_type": "stream",
     "text": [
      "[('Alex', '\"       \"\"M\"\"\"', 41, 74, 170)\n",
      " ('Bert', '\"       \"\"M\"\"\"', 42, 68, 166)\n",
      " ('Carl', '\"       \"\"M\"\"\"', 32, 70, 155)\n",
      " ('Dave', '\"       \"\"M\"\"\"', 39, 72, 167)\n",
      " ('Elly', '\"       \"\"F\"\"\"', 30, 66, 124)]\n"
     ]
    }
   ],
   "source": [
    "print(data[:5])"
   ]
  },
  {
   "cell_type": "code",
   "execution_count": 4,
   "metadata": {},
   "outputs": [
    {
     "name": "stdout",
     "output_type": "stream",
     "text": [
      "41, 42, 32, 39, 30, 33, 26, 30, 53, 32, 47, 34, 23, 36, 38, 31, 29, 28\n"
     ]
    }
   ],
   "source": [
    "#taking the second index of each tuple in the rows and saving it in an array\n",
    "age = np.array([row[2] for row in data])\n",
    "\n",
    "print(\", \".join(map(str, age)))"
   ]
  },
  {
   "cell_type": "code",
   "execution_count": 5,
   "metadata": {},
   "outputs": [
    {
     "name": "stdout",
     "output_type": "stream",
     "text": [
      "Average Age: 34.67\n",
      "Standard Deviation: 7.36\n",
      "Minimum Age: 23\n",
      "Maximum Age: 53\n"
     ]
    }
   ],
   "source": [
    "avg_age = np.mean(age)\n",
    "standard_dev = np.std(age)\n",
    "min_age = np.min(age)\n",
    "max_age = np.max(age)\n",
    "\n",
    "\n",
    "print(f\"Average Age: {avg_age:.2f}\")\n",
    "print(f\"Standard Deviation: {standard_dev:.2f}\")\n",
    "print(f\"Minimum Age: {min_age}\")\n",
    "print(f\"Maximum Age: {max_age}\")"
   ]
  },
  {
   "cell_type": "code",
   "execution_count": 6,
   "metadata": {},
   "outputs": [
    {
     "name": "stdout",
     "output_type": "stream",
     "text": [
      "30th Percentile: 30.10\n",
      "Median (50th Percentile): 32.50\n",
      "70th Percentile: 37.80\n"
     ]
    }
   ],
   "source": [
    "percentile_30 = np.percentile(age, 30)\n",
    "median_age = np.median(age)\n",
    "percentile_70 = np.percentile(age, 70)\n",
    "\n",
    "\n",
    "print(f\"30th Percentile: {percentile_30:.2f}\")\n",
    "print(f\"Median (50th Percentile): {median_age:.2f}\")\n",
    "print(f\"70th Percentile: {percentile_70:.2f}\")"
   ]
  },
  {
   "cell_type": "code",
   "execution_count": 7,
   "metadata": {},
   "outputs": [
    {
     "data": {
      "text/plain": [
       "Text(0, 0.5, 'Frequency')"
      ]
     },
     "execution_count": 7,
     "metadata": {},
     "output_type": "execute_result"
    },
    {
     "data": {
      "image/png": "[encoded data removed]",
      "text/plain": [
       "<Figure size 640x480 with 1 Axes>"
      ]
     },
     "metadata": {},
     "output_type": "display_data"
    }
   ],
   "source": [
    "plt.hist(age, bins=10, edgecolor='black')\n",
    "\n",
    "plt.title('Age Ditribuition Histogram - By Darya Mansouri')\n",
    "plt.xlabel('age')\n",
    "plt.ylabel(\"Frequency\")"
   ]
  }
 ],
 "metadata": {
  "kernelspec": {
   "display_name": "Python 3",
   "language": "python",
   "name": "python3"
  },
  "language_info": {
   "codemirror_mode": {
    "name": "ipython",
    "version": 3
   },
   "file_extension": ".py",
   "mimetype": "text/x-python",
   "name": "python",
   "nbconvert_exporter": "python",
   "pygments_lexer": "ipython3",
   "version": "3.12.5"
  }
 },
 "nbformat": 4,
 "nbformat_minor": 2
}
